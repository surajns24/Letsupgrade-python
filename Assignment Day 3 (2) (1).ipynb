{
 "cells": [
  {
   "cell_type": "code",
   "execution_count": 1,
   "metadata": {},
   "outputs": [
    {
     "name": "stdout",
     "output_type": "stream",
     "text": [
      "Enter the Altitude = 1000\n",
      "1000\n",
      "Pilot Can Land Safely\n"
     ]
    }
   ],
   "source": [
    "\n",
    "# Question 1 of Assignment 3\n",
    "\n",
    "alt = input(\"Enter the Altitude = \")\n",
    "alt = int(alt)\n",
    "print(alt)\n",
    "if alt <= 1000:\n",
    "    print(\"Pilot Can Land Safely\")\n",
    "elif alt <= 5000:\n",
    "    print(\"Bring the Alitude to 1000ft\")\n",
    "else:\n",
    "    print(\"Turn Around and Try Again..\")"
   ]
  },
  {
   "cell_type": "code",
   "execution_count": 2,
   "metadata": {},
   "outputs": [
    {
     "name": "stdout",
     "output_type": "stream",
     "text": [
      "Enter the Altitude4744\n",
      "4744\n",
      "Bring the Alitude to 1000ft\n"
     ]
    }
   ],
   "source": [
    "alt = input(\"Enter the Altitude\")\n",
    "alt = int(alt)\n",
    "print(alt)\n",
    "if alt <= 1000:\n",
    "    print(\"Pilot Can Land Safely\")\n",
    "elif alt <= 5000:\n",
    "    print(\"Bring the Alitude to 1000ft\")\n",
    "else:\n",
    "    print(\"Turn Around and Try Again..\")"
   ]
  },
  {
   "cell_type": "code",
   "execution_count": 3,
   "metadata": {},
   "outputs": [
    {
     "name": "stdout",
     "output_type": "stream",
     "text": [
      "Enter the Altitude5477\n",
      "5477\n",
      "Turn Around and Try Again..\n"
     ]
    }
   ],
   "source": [
    "alt = input(\"Enter the Altitude\")\n",
    "alt = int(alt)\n",
    "print(alt)\n",
    "if alt <= 1000:\n",
    "    print(\"Pilot Can Land Safely\")\n",
    "elif alt <= 5000:\n",
    "    print(\"Bring the Alitude to 1000ft\")\n",
    "else:\n",
    "    print(\"Turn Around and Try Again..\")"
   ]
  },
  {
   "cell_type": "code",
   "execution_count": 8,
   "metadata": {},
   "outputs": [],
   "source": [
    "# Question 2 of Assignment 3\n",
    "# Python code to print prime numbers upto (1,200)\n",
    "\n"
   ]
  },
  {
   "cell_type": "code",
   "execution_count": 11,
   "metadata": {},
   "outputs": [
    {
     "name": "stdout",
     "output_type": "stream",
     "text": [
      "Prime numbers between 1 and 200 are:\n",
      "2\n",
      "3\n",
      "5\n",
      "7\n",
      "11\n",
      "13\n",
      "17\n",
      "19\n",
      "23\n",
      "29\n",
      "31\n",
      "37\n",
      "41\n",
      "43\n",
      "47\n",
      "53\n",
      "59\n",
      "61\n",
      "67\n",
      "71\n",
      "73\n",
      "79\n",
      "83\n",
      "89\n",
      "97\n",
      "101\n",
      "103\n",
      "107\n",
      "109\n",
      "113\n",
      "127\n",
      "131\n",
      "137\n",
      "139\n",
      "149\n",
      "151\n",
      "157\n",
      "163\n",
      "167\n",
      "173\n",
      "179\n",
      "181\n",
      "191\n",
      "193\n",
      "197\n",
      "199\n"
     ]
    }
   ],
   "source": [
    "x = 1\n",
    "y = 200\n",
    "\n",
    "print(\"Prime numbers between\", x, \"and\", y, \"are:\")\n",
    "\n",
    "for num in range(x, y + 1):\n",
    "   \n",
    "   if num > 1:\n",
    "       for i in range(2, num):\n",
    "           if (num % i) == 0:\n",
    "               break\n",
    "       else:\n",
    "           print(num)"
   ]
  },
  {
   "cell_type": "code",
   "execution_count": null,
   "metadata": {},
   "outputs": [],
   "source": []
  }
 ],
 "metadata": {
  "kernelspec": {
   "display_name": "Python 3",
   "language": "python",
   "name": "python3"
  },
  "language_info": {
   "codemirror_mode": {
    "name": "ipython",
    "version": 3
   },
   "file_extension": ".py",
   "mimetype": "text/x-python",
   "name": "python",
   "nbconvert_exporter": "python",
   "pygments_lexer": "ipython3",
   "version": "3.8.3"
  }
 },
 "nbformat": 4,
 "nbformat_minor": 4
}
